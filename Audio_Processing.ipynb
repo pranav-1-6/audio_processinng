{
  "nbformat": 4,
  "nbformat_minor": 0,
  "metadata": {
    "colab": {
      "provenance": [],
      "gpuType": "T4",
      "authorship_tag": "ABX9TyOnjp4WlsQfloZxXiOZEZ4f",
      "include_colab_link": true
    },
    "kernelspec": {
      "name": "python3",
      "display_name": "Python 3"
    },
    "language_info": {
      "name": "python"
    },
    "accelerator": "GPU"
  },
  "cells": [
    {
      "cell_type": "markdown",
      "metadata": {
        "id": "view-in-github",
        "colab_type": "text"
      },
      "source": [
        "<a href=\"https://colab.research.google.com/github/pranav-1-6/audio_processinng/blob/main/Audio_Processing.ipynb\" target=\"_parent\"><img src=\"https://colab.research.google.com/assets/colab-badge.svg\" alt=\"Open In Colab\"/></a>"
      ]
    },
    {
      "cell_type": "code",
      "source": [
        "!pip install pydub"
      ],
      "metadata": {
        "colab": {
          "base_uri": "https://localhost:8080/"
        },
        "id": "Jlepwq66Q4Hf",
        "outputId": "8adee5bd-b6da-42ce-ca89-6f65539ee584"
      },
      "execution_count": null,
      "outputs": [
        {
          "output_type": "stream",
          "name": "stdout",
          "text": [
            "Collecting pydub\n",
            "  Downloading pydub-0.25.1-py2.py3-none-any.whl (32 kB)\n",
            "Installing collected packages: pydub\n",
            "Successfully installed pydub-0.25.1\n"
          ]
        }
      ]
    },
    {
      "cell_type": "code",
      "execution_count": null,
      "metadata": {
        "id": "WpOfFWapQV_a"
      },
      "outputs": [],
      "source": [
        "import urllib.request\n",
        "from pydub import AudioSegment\n",
        "from pydub.playback import play\n",
        "# Download an audio file\n",
        "urllib.request.urlretrieve(\"https://tinyurl.com/wx9amev\", \"metallic-drums.wav\")\n",
        "# Load into PyDub\n",
        "loop = AudioSegment.from_wav(\"metallic-drums.wav\")\n",
        "# Play the result\n",
        "play(loop)"
      ]
    },
    {
      "cell_type": "code",
      "source": [
        "# Repeat 2 times\n",
        "loop2 = loop * 2\n",
        "# Get length in milliseconds\n",
        "length = len(loop2)\n",
        "# Set fade time\n",
        "fade_time = int(length * 0.5)\n",
        "# Fade in and out\n",
        "faded = loop2.fade_in(fade_time).fade_out(fade_time)"
      ],
      "metadata": {
        "id": "9ssamrerQ9qN"
      },
      "execution_count": null,
      "outputs": []
    },
    {
      "cell_type": "code",
      "source": [
        "# Download another loop\n",
        "urllib.request.urlretrieve(\"https://tinyurl.com/yx3k5kw5\", \"beat.wav\")\n",
        "# Load into PyDub\n",
        "beat = AudioSegment.from_wav(\"beat.wav\")\n",
        "# Mix with our original loop\n",
        "mixed = beat[:length].overlay(loop2)"
      ],
      "metadata": {
        "id": "-sIaA-ecRBuK"
      },
      "execution_count": null,
      "outputs": []
    },
    {
      "cell_type": "code",
      "source": [
        "# Filter the beat at 3kHz\n",
        "filtered = beat.low_pass_filter(3000)\n",
        "# Mix loop2 with a reversed, panned version\n",
        "loop = loop2.reverse().pan(-0.5).overlay(loop2.pan(0.5))\n",
        "# Mix our filtered beat with the new loop at -3dB\n",
        "final = filtered.overlay(loop2 - 3, loop=True)"
      ],
      "metadata": {
        "id": "NhQpEcqdRztl"
      },
      "execution_count": null,
      "outputs": []
    },
    {
      "cell_type": "code",
      "source": [
        "final.export(\"final.mp3\", format=\"mp3\")"
      ],
      "metadata": {
        "colab": {
          "base_uri": "https://localhost:8080/"
        },
        "id": "zpFcLvMAR5z0",
        "outputId": "4fbdcac9-d324-4cfa-c16e-f5908ad18940"
      },
      "execution_count": null,
      "outputs": [
        {
          "output_type": "execute_result",
          "data": {
            "text/plain": [
              "<_io.BufferedRandom name='final.mp3'>"
            ]
          },
          "metadata": {},
          "execution_count": 7
        }
      ]
    },
    {
      "cell_type": "code",
      "source": [
        "from pydub import AudioSegment, generators\n",
        "from pydub.playback import play\n",
        "\n",
        "# Create an empty AudioSegment\n",
        "result = AudioSegment.silent(duration=0)\n",
        "\n",
        "# Loop over 0-14\n",
        "for n in range(15):\n",
        "    # Generate a sine tone with frequency 200 * n\n",
        "    gen = generators.Sine(200 * n)\n",
        "    # AudioSegment with duration 200ms, gain -3\n",
        "    sine = gen.to_audio_segment(duration=200).apply_gain(-3)\n",
        "    # Fade in / out\n",
        "    sine = sine.fade_in(50).fade_out(100)\n",
        "    # Append the sine to our result\n",
        "    result += sine\n",
        "\n",
        "# Play the result\n",
        "play(result)"
      ],
      "metadata": {
        "id": "ry6hzoKYR78L"
      },
      "execution_count": null,
      "outputs": []
    },
    {
      "cell_type": "code",
      "source": [],
      "metadata": {
        "id": "2-g8SwupSAlp"
      },
      "execution_count": null,
      "outputs": []
    }
  ]
}